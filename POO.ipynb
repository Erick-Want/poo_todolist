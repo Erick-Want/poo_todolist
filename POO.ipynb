{
 "cells": [
  {
   "cell_type": "code",
   "execution_count": 3,
   "metadata": {},
   "outputs": [],
   "source": [
    "import csv\n",
    "import datetime"
   ]
  },
  {
   "cell_type": "code",
   "execution_count": 4,
   "metadata": {},
   "outputs": [],
   "source": [
    "class ListaTarefas ():\n",
    "    def __init__(self):\n",
    "        self.lista_tarefas = []\n",
    "\n",
    "    def adicionar_tarefa (self, nome_tarefa, data_vencimento = datetime.date.today(), categoria = 'Nenhuma', status = 'Pendente'):\n",
    "        tarefa = [nome_tarefa, self.converter_data(data_vencimento), categoria, status]\n",
    "        \n",
    "        with open('File.csv', 'a') as arquivo:\n",
    "            escritor = csv.writer(arquivo, delimiter=',', lineterminator='\\n')\n",
    "            escritor.writerow(tarefa)\n",
    "\n",
    "    def remover_tarefa (self, nome_tarefa):\n",
    "        self.ler_csv()\n",
    "\n",
    "        for tarefa in self.lista_tarefas:\n",
    "            if tarefa[0] == nome_tarefa:\n",
    "                self.lista_tarefas.remove(tarefa)\n",
    "        self.atualizar_csv()\n",
    "\n",
    "    def alterar_status (self):\n",
    "        pass\n",
    "    \n",
    "    def imprimir_tarefas (self):\n",
    "        pass\n",
    "\n",
    "    def atualizar_csv (self):\n",
    "        with open('File.csv', 'w') as arquivo:\n",
    "            escritor = csv.writer(arquivo, delimiter=',', lineterminator='\\n')\n",
    "            escritor.writerows(self.lista_tarefas)\n",
    "\n",
    "    def ler_csv (self):\n",
    "        with open('File.csv') as arquivo:\n",
    "            self.lista_tarefas = list(csv.reader(arquivo, delimiter=',', lineterminator='\\n'))\n",
    "\n",
    "    @staticmethod\n",
    "    def converter_data (data_entrada):\n",
    "        dia, mes, ano = map(int, data_entrada.split('/'))\n",
    "        data_entrada = datetime.datetime(ano, mes, dia)\n",
    "\n",
    "        return data_entrada"
   ]
  }
 ],
 "metadata": {
  "interpreter": {
   "hash": "a23c8859640bc1fbc613091da76fbf96a069fd467f295e7bb8213e839167d67d"
  },
  "kernelspec": {
   "display_name": "Python 3.8.10 64-bit",
   "language": "python",
   "name": "python3"
  },
  "language_info": {
   "codemirror_mode": {
    "name": "ipython",
    "version": 3
   },
   "file_extension": ".py",
   "mimetype": "text/x-python",
   "name": "python",
   "nbconvert_exporter": "python",
   "pygments_lexer": "ipython3",
   "version": "3.8.10"
  },
  "orig_nbformat": 4
 },
 "nbformat": 4,
 "nbformat_minor": 2
}
