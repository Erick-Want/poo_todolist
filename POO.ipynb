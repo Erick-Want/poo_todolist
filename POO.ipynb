{
 "cells": [
  {
   "cell_type": "code",
   "execution_count": 1,
   "metadata": {},
   "outputs": [],
   "source": [
    "import csv"
   ]
  },
  {
   "cell_type": "code",
   "execution_count": 2,
   "metadata": {},
   "outputs": [],
   "source": [
    "class ListaTarefas ():\n",
    "    def __init__(self):\n",
    "        self.lista_tarefas = []\n",
    "\n",
    "    def adicionar_tarefa (self, nome_tarefa, data_vencimento, categoria = 'Nenhuma'):\n",
    "        tarefa = [nome_tarefa, self.converter_data(data_vencimento), categoria]\n",
    "        \n",
    "        with open('File.csv', 'a') as arquivo:\n",
    "            escritor = csv.writer(arquivo, delimiter=',', lineterminator='\\n')\n",
    "            escritor.writerow(tarefa)\n",
    "\n",
    "    def remover_tarefa (self):\n",
    "        pass    \n",
    "        \n",
    "    def alterar_status (self):\n",
    "        pass\n",
    "    \n",
    "    def imprimir_tarefas (self):\n",
    "        pass\n",
    "\n",
    "    def converter_para_csv (self):\n",
    "        pass\n",
    "                \n",
    "    def ler_csv (self):\n",
    "        pass\n",
    "\n",
    "    @staticmethod\n",
    "    def converter_data (data_entrada):\n",
    "        pass"
   ]
  }
 ],
 "metadata": {
  "interpreter": {
   "hash": "a23c8859640bc1fbc613091da76fbf96a069fd467f295e7bb8213e839167d67d"
  },
  "kernelspec": {
   "display_name": "Python 3.8.10 64-bit",
   "language": "python",
   "name": "python3"
  },
  "language_info": {
   "codemirror_mode": {
    "name": "ipython",
    "version": 3
   },
   "file_extension": ".py",
   "mimetype": "text/x-python",
   "name": "python",
   "nbconvert_exporter": "python",
   "pygments_lexer": "ipython3",
   "version": "3.8.10"
  },
  "orig_nbformat": 4
 },
 "nbformat": 4,
 "nbformat_minor": 2
}
