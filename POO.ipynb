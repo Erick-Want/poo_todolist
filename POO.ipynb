{
 "cells": [
  {
   "cell_type": "code",
   "execution_count": null,
   "metadata": {},
   "outputs": [],
   "source": [
    "class ListaTarefas ():\n",
    "    def __init__(self):\n",
    "        self.lista_tarefas = []\n",
    "\n",
    "    def adicionar_tarefa (self):\n",
    "        pass\n",
    "\n",
    "    def remover_tarefa (self):\n",
    "        pass    \n",
    "        \n",
    "    def alterar_status (self):\n",
    "        pass\n",
    "    \n",
    "    def imprimir_tarefas (self):\n",
    "        pass\n",
    "\n",
    "    def converter_para_csv (self):\n",
    "        pass\n",
    "                \n",
    "    def ler_csv (self):\n",
    "        pass\n",
    "\n",
    "    @staticmethod\n",
    "    def converter_data (data_entrada):\n",
    "        pass"
   ]
  }
 ],
 "metadata": {
  "language_info": {
   "name": "python"
  },
  "orig_nbformat": 4
 },
 "nbformat": 4,
 "nbformat_minor": 2
}
