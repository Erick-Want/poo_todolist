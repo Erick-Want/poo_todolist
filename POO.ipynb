{
 "cells": [
  {
   "cell_type": "code",
   "execution_count": 4,
   "metadata": {},
   "outputs": [],
   "source": [
    "import csv\n",
    "import datetime\n",
    "from rich import print\n",
    "from time import sleep\n",
    "\n",
    "class ListaTarefas ():\n",
    "    def __init__(self):\n",
    "        self.lista_tarefas = []\n",
    "        with open('File.csv', 'a') as arquivo:\n",
    "            csv.writer(arquivo, delimiter=',', lineterminator='\\n')\n",
    "\n",
    "    def adicionar_tarefa (self, nome_tarefa, data_vencimento = datetime.date.today(), categoria = 'Nenhuma'):\n",
    "        tarefa = [nome_tarefa, self.converter_data(data_vencimento), categoria, 'Pendente']\n",
    "        \n",
    "        with open('File.csv', 'a') as arquivo:\n",
    "            escritor = csv.writer(arquivo, delimiter=',', lineterminator='\\n')\n",
    "            escritor.writerow(tarefa)\n",
    "\n",
    "    def remover_tarefa (self, nome_tarefa):\n",
    "        self.ler_csv()\n",
    "        if len(self.lista_tarefas) == 0:\n",
    "            print('[bold red]Sem tarefas para alterar, adicione alguma![/]')\n",
    "        else:\n",
    "            for tarefa in self.lista_tarefas:\n",
    "                if tarefa[0] == nome_tarefa:\n",
    "                    self.lista_tarefas.remove(tarefa)\n",
    "        self.atualizar_csv()\n",
    "\n",
    "    def alterar_status (self, nome_tarefa):\n",
    "        self.ler_csv()\n",
    "        if len(self.lista_tarefas) == 0:\n",
    "            print('[bold red]Sem tarefas para alterar, adicione alguma![/]')\n",
    "        else:\n",
    "            for index, tarefa in enumerate(self.lista_tarefas):\n",
    "                if tarefa[0] == nome_tarefa:\n",
    "                    if tarefa[3] ==  'Pendente':\n",
    "                        self.lista_tarefas[index][3] = 'Concluido'\n",
    "                    else:\n",
    "                        self.lista_tarefas[index][3] = 'Pendente'\n",
    "        self.atualizar_csv()\n",
    "    \n",
    "    def imprimir_tarefas (self, data_vencimento):\n",
    "        self.ler_csv()\n",
    "        if len(self.lista_tarefas) == 0:\n",
    "            print('[bold red]Sem tarefas para alterar, adicione alguma![/]')\n",
    "        else:\n",
    "            encontradas = []\n",
    "\n",
    "            data = self.converter_data(data_vencimento)\n",
    "            for tarefa in self.lista_tarefas:\n",
    "                if tarefa[1] == str(data):\n",
    "                    encontradas.append(tarefa)\n",
    "            if len(encontradas) > 0:\n",
    "                for index, tarefa in enumerate(encontradas):\n",
    "                    print(f'''\n",
    "                    Tarefa {index + 1} encontrada:\n",
    "                        Nome: {tarefa[0]}\n",
    "                        Data de vencimento: {tarefa[1]}\n",
    "                        Categoria: {tarefa[2]}\n",
    "                        Status: {tarefa[3]}\n",
    "                    ''')\n",
    "            else:\n",
    "                print(f'Não foi encontrada nenhuma tarefa na data: {data}')\n",
    "\n",
    "    def atualizar_csv (self):\n",
    "        with open('File.csv', 'w') as arquivo:\n",
    "            escritor = csv.writer(arquivo, delimiter=',', lineterminator='\\n')\n",
    "            escritor.writerows(self.lista_tarefas)\n",
    "\n",
    "    def ler_csv (self):\n",
    "        with open('File.csv') as arquivo:\n",
    "            self.lista_tarefas = list(csv.reader(arquivo, delimiter=',', lineterminator='\\n'))\n",
    "\n",
    "    @staticmethod\n",
    "    def converter_data (data_entrada):\n",
    "        dia, mes, ano = map(int, data_entrada.split('/'))\n",
    "        data_entrada = datetime.datetime(ano, mes, dia)\n",
    "\n",
    "        return data_entrada"
   ]
  },
  {
   "cell_type": "code",
   "execution_count": 5,
   "metadata": {},
   "outputs": [],
   "source": [
    "lista_tarefa1 = ListaTarefas()"
   ]
  },
  {
   "cell_type": "code",
   "execution_count": 6,
   "metadata": {},
   "outputs": [],
   "source": [
    "lista_tarefa1.adicionar_tarefa('marcar dentista', '12/01/2022', 'exames')"
   ]
  },
  {
   "cell_type": "code",
   "execution_count": 7,
   "metadata": {},
   "outputs": [],
   "source": [
    "lista_tarefa1.adicionar_tarefa('lista probabilidade', '12/01/2022', 'lista')"
   ]
  },
  {
   "cell_type": "code",
   "execution_count": 8,
   "metadata": {},
   "outputs": [],
   "source": [
    "lista_tarefa1.adicionar_tarefa('lista data', '14/01/2022', 'lista')"
   ]
  },
  {
   "cell_type": "code",
   "execution_count": 9,
   "metadata": {},
   "outputs": [],
   "source": [
    "lista_tarefa1.adicionar_tarefa('marcar oftalmologista', '14/01/2022', 'exames')"
   ]
  },
  {
   "cell_type": "code",
   "execution_count": 10,
   "metadata": {},
   "outputs": [],
   "source": [
    "lista_tarefa1.alterar_status('lista probabilidade')"
   ]
  },
  {
   "cell_type": "code",
   "execution_count": 11,
   "metadata": {},
   "outputs": [],
   "source": [
    "lista_tarefa1.remover_tarefa('lista probabilidade')"
   ]
  },
  {
   "cell_type": "code",
   "execution_count": 12,
   "metadata": {},
   "outputs": [
    {
     "data": {
      "text/html": [
       "<pre style=\"white-space:pre;overflow-x:auto;line-height:normal;font-family:Menlo,'DejaVu Sans Mono',consolas,'Courier New',monospace\">\n",
       "                    Tarefa <span style=\"color: #008080; text-decoration-color: #008080; font-weight: bold\">1</span> encontrada:\n",
       "                        Nome: marcar dentista\n",
       "                        Data de vencimento: <span style=\"color: #008080; text-decoration-color: #008080; font-weight: bold\">2022</span>-<span style=\"color: #008080; text-decoration-color: #008080; font-weight: bold\">01</span>-<span style=\"color: #008080; text-decoration-color: #008080; font-weight: bold\">12</span> <span style=\"color: #00ff00; text-decoration-color: #00ff00; font-weight: bold\">00:00:00</span>\n",
       "                        Categoria: exames\n",
       "                        Status: Pendente\n",
       "                    \n",
       "</pre>\n"
      ],
      "text/plain": [
       "\n",
       "                    Tarefa \u001b[1;36m1\u001b[0m encontrada:\n",
       "                        Nome: marcar dentista\n",
       "                        Data de vencimento: \u001b[1;36m2022\u001b[0m-\u001b[1;36m01\u001b[0m-\u001b[1;36m12\u001b[0m \u001b[1;92m00:00:00\u001b[0m\n",
       "                        Categoria: exames\n",
       "                        Status: Pendente\n",
       "                    \n"
      ]
     },
     "metadata": {},
     "output_type": "display_data"
    }
   ],
   "source": [
    "lista_tarefa1.imprimir_tarefas('12/01/2022')"
   ]
  },
  {
   "cell_type": "code",
   "execution_count": 13,
   "metadata": {},
   "outputs": [
    {
     "data": {
      "text/html": [
       "<pre style=\"white-space:pre;overflow-x:auto;line-height:normal;font-family:Menlo,'DejaVu Sans Mono',consolas,'Courier New',monospace\">Não foi encontrada nenhuma tarefa na data: <span style=\"color: #008080; text-decoration-color: #008080; font-weight: bold\">2022</span>-<span style=\"color: #008080; text-decoration-color: #008080; font-weight: bold\">01</span>-<span style=\"color: #008080; text-decoration-color: #008080; font-weight: bold\">15</span> <span style=\"color: #00ff00; text-decoration-color: #00ff00; font-weight: bold\">00:00:00</span>\n",
       "</pre>\n"
      ],
      "text/plain": [
       "Não foi encontrada nenhuma tarefa na data: \u001b[1;36m2022\u001b[0m-\u001b[1;36m01\u001b[0m-\u001b[1;36m15\u001b[0m \u001b[1;92m00:00:00\u001b[0m\n"
      ]
     },
     "metadata": {},
     "output_type": "display_data"
    }
   ],
   "source": [
    "lista_tarefa1.imprimir_tarefas('15/01/2022')"
   ]
  },
  {
   "cell_type": "code",
   "execution_count": 14,
   "metadata": {},
   "outputs": [
    {
     "data": {
      "text/plain": [
       "3"
      ]
     },
     "execution_count": 14,
     "metadata": {},
     "output_type": "execute_result"
    }
   ],
   "source": [
    "len(lista_tarefa1.lista_tarefas)"
   ]
  },
  {
   "cell_type": "code",
   "execution_count": null,
   "metadata": {},
   "outputs": [],
   "source": []
  }
 ],
 "metadata": {
  "interpreter": {
   "hash": "a23c8859640bc1fbc613091da76fbf96a069fd467f295e7bb8213e839167d67d"
  },
  "kernelspec": {
   "display_name": "Python 3.8.10 64-bit",
   "language": "python",
   "name": "python3"
  },
  "language_info": {
   "codemirror_mode": {
    "name": "ipython",
    "version": 3
   },
   "file_extension": ".py",
   "mimetype": "text/x-python",
   "name": "python",
   "nbconvert_exporter": "python",
   "pygments_lexer": "ipython3",
   "version": "3.10.1"
  },
  "orig_nbformat": 4
 },
 "nbformat": 4,
 "nbformat_minor": 2
}
